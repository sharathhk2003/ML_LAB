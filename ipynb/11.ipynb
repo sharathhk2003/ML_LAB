{
 "cells": [
  {
   "cell_type": "code",
   "execution_count": 5,
   "id": "472514fe-1c12-49f7-998e-81a9064789cf",
   "metadata": {},
   "outputs": [
    {
     "name": "stderr",
     "output_type": "stream",
     "text": [
      "E:\\ANACONDA 3\\Lib\\site-packages\\keras\\src\\layers\\core\\dense.py:86: UserWarning: Do not pass an `input_shape`/`input_dim` argument to a layer. When using Sequential models, prefer using an `Input(shape)` object as the first layer in the model instead.\n",
      "  super().__init__(activity_regularizer=activity_regularizer, **kwargs)\n"
     ]
    },
    {
     "name": "stdout",
     "output_type": "stream",
     "text": [
      "AND Function Predictions:\n",
      "\u001b[1m1/1\u001b[0m \u001b[32m━━━━━━━━━━━━━━━━━━━━\u001b[0m\u001b[37m\u001b[0m \u001b[1m0s\u001b[0m 29ms/step\n",
      "[0, 0, 0, 1]\n",
      "\n",
      "OR Function Predictions:\n",
      "\u001b[1m1/1\u001b[0m \u001b[32m━━━━━━━━━━━━━━━━━━━━\u001b[0m\u001b[37m\u001b[0m \u001b[1m0s\u001b[0m 32ms/step\n",
      "[1, 1, 1, 1]\n",
      "\n",
      "AND Function Prediction for input [1, 1]:\n",
      "\u001b[1m1/1\u001b[0m \u001b[32m━━━━━━━━━━━━━━━━━━━━\u001b[0m\u001b[37m\u001b[0m \u001b[1m0s\u001b[0m 25ms/step\n",
      "[1]\n",
      "\n",
      "OR Function Prediction for input [0, 1]:\n",
      "\u001b[1m1/1\u001b[0m \u001b[32m━━━━━━━━━━━━━━━━━━━━\u001b[0m\u001b[37m\u001b[0m \u001b[1m0s\u001b[0m 28ms/step\n",
      "[1]\n"
     ]
    }
   ],
   "source": [
    "import numpy as np \n",
    "from keras.models import Sequential \n",
    "from keras.layers import Dense \n",
    "import warnings\n",
    "warnings.filterwarnings(\"ignore\", category=DeprecationWarning)\n",
    "\n",
    "X_and = np.array([[0, 0], [0, 1], [1, 0], [1, 1]]) \n",
    "y_and = np.array([0, 0, 0, 1]) \n",
    "\n",
    "X_or = np.array([[0, 0], [0, 1], [1, 0], [1, 1]]) \n",
    "y_or = np.array([0, 1, 1, 1]) \n",
    "\n",
    "def create_and_train_model(inputs, labels, epochs=2000): \n",
    "    model = Sequential([ \n",
    "        Dense(1, input_dim=2, activation='sigmoid')\n",
    "    ]) \n",
    "    model.compile(loss='binary_crossentropy', optimizer='adam', metrics=['accuracy']) \n",
    "    model.fit(inputs, labels, epochs=epochs, verbose=0) \n",
    "    return model \n",
    "\n",
    "model_and = create_and_train_model(X_and, y_and) \n",
    "model_or = create_and_train_model(X_or, y_or) \n",
    "\n",
    "def test_model(model, inputs): \n",
    "    predictions = model.predict(inputs) \n",
    "    predictions = [round(pred[0]) for pred in predictions] \n",
    "    return predictions \n",
    "\n",
    "print(\"AND Function Predictions:\") \n",
    "print(test_model(model_and, X_and)) \n",
    "\n",
    "print(\"\\nOR Function Predictions:\") \n",
    "print(test_model(model_or, X_or)) \n",
    "\n",
    "and_test_input = np.array([[1, 1]]) \n",
    "or_test_input = np.array([[0, 1]]) \n",
    "\n",
    "print(\"\\nAND Function Prediction for input [1, 1]:\") \n",
    "print(test_model(model_and, and_test_input)) \n",
    "\n",
    "print(\"\\nOR Function Prediction for input [0, 1]:\") \n",
    "print(test_model(model_or, or_test_input))"
   ]
  },
  {
   "cell_type": "code",
   "execution_count": null,
   "id": "0f475194-67d9-4022-a705-441807b9293a",
   "metadata": {},
   "outputs": [],
   "source": []
  },
  {
   "cell_type": "code",
   "execution_count": null,
   "id": "df8bbc83-fed9-48c5-a198-9b6a4bca2118",
   "metadata": {},
   "outputs": [],
   "source": []
  }
 ],
 "metadata": {
  "kernelspec": {
   "display_name": "Python 3 (ipykernel)",
   "language": "python",
   "name": "python3"
  },
  "language_info": {
   "codemirror_mode": {
    "name": "ipython",
    "version": 3
   },
   "file_extension": ".py",
   "mimetype": "text/x-python",
   "name": "python",
   "nbconvert_exporter": "python",
   "pygments_lexer": "ipython3",
   "version": "3.11.7"
  }
 },
 "nbformat": 4,
 "nbformat_minor": 5
}
