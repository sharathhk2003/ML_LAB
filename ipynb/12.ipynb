{
 "cells": [
  {
   "cell_type": "code",
   "execution_count": 3,
   "id": "199774f7-5489-48e4-b1f3-dfe49c773c13",
   "metadata": {},
   "outputs": [
    {
     "name": "stderr",
     "output_type": "stream",
     "text": [
      "E:\\ANACONDA 3\\Lib\\site-packages\\keras\\src\\layers\\core\\dense.py:86: UserWarning: Do not pass an `input_shape`/`input_dim` argument to a layer. When using Sequential models, prefer using an `Input(shape)` object as the first layer in the model instead.\n",
      "  super().__init__(activity_regularizer=activity_regularizer, **kwargs)\n"
     ]
    },
    {
     "name": "stdout",
     "output_type": "stream",
     "text": [
      "AND-NOT Model Predictions on training data:\n",
      "\u001b[1m1/1\u001b[0m \u001b[32m━━━━━━━━━━━━━━━━━━━━\u001b[0m\u001b[37m\u001b[0m \u001b[1m0s\u001b[0m 29ms/step\n",
      "[0, 0, 1, 0]\n",
      "\n",
      "XOR Model Predictions on training data:\n",
      "\u001b[1m1/1\u001b[0m \u001b[32m━━━━━━━━━━━━━━━━━━━━\u001b[0m\u001b[37m\u001b[0m \u001b[1m0s\u001b[0m 35ms/step\n",
      "[0, 0, 1, 0]\n",
      "\n",
      "AND-NOT Model Prediction for input [0, 1]:\n",
      "\u001b[1m1/1\u001b[0m \u001b[32m━━━━━━━━━━━━━━━━━━━━\u001b[0m\u001b[37m\u001b[0m \u001b[1m0s\u001b[0m 28ms/step\n",
      "[0]\n",
      "\n",
      "XOR Model Prediction for input [1, 0]:\n",
      "\u001b[1m1/1\u001b[0m \u001b[32m━━━━━━━━━━━━━━━━━━━━\u001b[0m\u001b[37m\u001b[0m \u001b[1m0s\u001b[0m 39ms/step\n",
      "[1]\n"
     ]
    }
   ],
   "source": [
    "import numpy as np \n",
    "from keras.models import Sequential \n",
    "from keras.layers import Dense \n",
    "import warnings\n",
    "warnings.filterwarnings(\"ignore\", category=DeprecationWarning)\n",
    "\n",
    "and_not_inputs = np.array([[0, 0], [0, 1], [1, 0], [1, 1]]) \n",
    "and_not_labels = np.array([0, 0, 1, 0]) \n",
    "\n",
    "xor_inputs = np.array([[0, 0], [0, 1], [1, 0], [1, 1]]) \n",
    "xor_labels = np.array([0, 1, 1, 0]) \n",
    "\n",
    "def create_and_train_model(inputs, labels, epochs=3000): \n",
    "    model = Sequential([ \n",
    "        Dense(2, input_dim=2, activation='relu'), \n",
    "        Dense(1, activation='sigmoid') \n",
    "    ]) \n",
    "    model.compile(loss='binary_crossentropy', optimizer='adam', metrics=['accuracy']) \n",
    "    model.fit(inputs, labels, epochs=epochs, verbose=0) \n",
    "    return model \n",
    "\n",
    "and_not_model = create_and_train_model(and_not_inputs, and_not_labels) \n",
    "\n",
    "xor_model = create_and_train_model(xor_inputs, xor_labels) \n",
    "\n",
    "def test_model(model, inputs): \n",
    "    inputs = np.array(inputs)\n",
    "    predictions = model.predict(inputs) \n",
    "    predictions = [round(pred[0]) for pred in predictions] \n",
    "    return predictions \n",
    "\n",
    "print(\"AND-NOT Model Predictions on training data:\") \n",
    "print(test_model(and_not_model, and_not_inputs)) \n",
    "print(\"\\nXOR Model Predictions on training data:\") \n",
    "print(test_model(xor_model, xor_inputs)) \n",
    "\n",
    "and_not_test_input = [[0, 1]] \n",
    "xor_test_input = [[1, 0]] \n",
    "\n",
    "print(\"\\nAND-NOT Model Prediction for input [0, 1]:\") \n",
    "print(test_model(and_not_model, and_not_test_input)) \n",
    "\n",
    "print(\"\\nXOR Model Prediction for input [1, 0]:\") \n",
    "print(test_model(xor_model, xor_test_input))"
   ]
  },
  {
   "cell_type": "code",
   "execution_count": null,
   "id": "c139e928-b4c1-44ec-8efd-8835cd6bc3b6",
   "metadata": {},
   "outputs": [],
   "source": []
  }
 ],
 "metadata": {
  "kernelspec": {
   "display_name": "Python 3 (ipykernel)",
   "language": "python",
   "name": "python3"
  },
  "language_info": {
   "codemirror_mode": {
    "name": "ipython",
    "version": 3
   },
   "file_extension": ".py",
   "mimetype": "text/x-python",
   "name": "python",
   "nbconvert_exporter": "python",
   "pygments_lexer": "ipython3",
   "version": "3.11.7"
  }
 },
 "nbformat": 4,
 "nbformat_minor": 5
}
