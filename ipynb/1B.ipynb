{
 "cells": [
  {
   "cell_type": "markdown",
   "id": "e11c83da-fb5d-4264-81ab-362f6c2a16d5",
   "metadata": {},
   "source": [
    "# "
   ]
  },
  {
   "cell_type": "code",
   "execution_count": 64,
   "id": "77b0146a-1a02-4db5-8513-3d92871c3b62",
   "metadata": {},
   "outputs": [
    {
     "name": "stdout",
     "output_type": "stream",
     "text": [
      "Best First Search Path: ['S', 'B', 'F', 'G']\n",
      "Total Cost: 11\n",
      "Number of Nodes Visited :  4\n"
     ]
    }
   ],
   "source": [
    "from queue import PriorityQueue\n",
    "\n",
    "def best_first_search(graph, start, goal, heuristic):\n",
    "    visited = set()\n",
    "    pq = PriorityQueue()\n",
    "    pq.put((0, start))\n",
    "    parent = {start: None}\n",
    "    path_cost = {start: 0} \n",
    "    \n",
    "    while not pq.empty():\n",
    "        current_cost, node = pq.get()\n",
    "        \n",
    "        if node == goal:\n",
    "            break\n",
    "        \n",
    "        if node not in visited:\n",
    "            visited.add(node)\n",
    "            for neighbor, edge_cost in graph[node].items():\n",
    "                new_cost = path_cost[node] + edge_cost\n",
    "                if neighbor not in path_cost or new_cost < path_cost[neighbor]:\n",
    "                    path_cost[neighbor] = new_cost\n",
    "                    total_cost = new_cost + heuristic[neighbor]\n",
    "                    pq.put((total_cost, neighbor))\n",
    "                    parent[neighbor] = node\n",
    "    \n",
    "    path = []\n",
    "    node = goal\n",
    "    while node is not None:\n",
    "        path.append(node)\n",
    "        node = parent[node]\n",
    "    path.reverse()\n",
    "    \n",
    "    return path, path_cost.get(goal, float('inf'))\n",
    "\n",
    "# Example graph representation using adjacency list with edge costs\n",
    "graph = {\n",
    "    'S': {'A': 1, 'B': 2},\n",
    "    'A': {'C': 3, 'D': 4},\n",
    "    'B': {'E': 5, 'F': 6},\n",
    "    'C': {},\n",
    "    'D': {},\n",
    "    'E': {'H': 1},\n",
    "    'F': {'I': 2, 'G': 3},\n",
    "    'H': {},\n",
    "    'I': {},\n",
    "    'G': {},\n",
    "}\n",
    "\n",
    "start_node = 'S'\n",
    "goal_node = 'G'\n",
    "\n",
    "# Heuristic values from current node to goal node\n",
    "heuristic_values = {\n",
    "    'S': 13,\n",
    "    'A': 12,\n",
    "    'B': 4,\n",
    "    'C': 7,\n",
    "    'D': 3,\n",
    "    'E': 8,\n",
    "    'F': 2,\n",
    "    'H': 4,\n",
    "    'I': 9,\n",
    "    'G': 0,\n",
    "}\n",
    "\n",
    "path, total_cost = best_first_search(graph, start_node, goal_node, heuristic_values)\n",
    "print(\"Best First Search Path:\", path)\n",
    "print(\"Total Cost:\", total_cost)\n",
    "print(\"Number of Nodes Visited : \",len(path))"
   ]
  }
 ],
 "metadata": {
  "kernelspec": {
   "display_name": "Python 3 (ipykernel)",
   "language": "python",
   "name": "python3"
  },
  "language_info": {
   "codemirror_mode": {
    "name": "ipython",
    "version": 3
   },
   "file_extension": ".py",
   "mimetype": "text/x-python",
   "name": "python",
   "nbconvert_exporter": "python",
   "pygments_lexer": "ipython3",
   "version": "3.11.7"
  }
 },
 "nbformat": 4,
 "nbformat_minor": 5
}
