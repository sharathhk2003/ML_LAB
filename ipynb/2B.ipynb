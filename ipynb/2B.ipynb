{
 "cells": [
  {
   "cell_type": "code",
   "execution_count": 2,
   "id": "31e0adb5-86c2-4375-b376-52044d7ae41b",
   "metadata": {},
   "outputs": [
    {
     "name": "stdout",
     "output_type": "stream",
     "text": [
      "A* Search Path: ['S', 'A', 'B', 'C', 'D']\n",
      "Total Cost: 8\n"
     ]
    }
   ],
   "source": [
    "import heapq\n",
    "\n",
    "def a_star_search_heapq(graph, start, goal, heuristic, cost):\n",
    "    # Priority queue for exploring nodes\n",
    "    priority_queue = []\n",
    "    heapq.heappush(priority_queue, (0 + heuristic[start], start))\n",
    "    visited = set()\n",
    "    g_cost = {start: 0}\n",
    "    parent = {start: None}\n",
    "\n",
    "    while priority_queue:\n",
    "        current_f_cost, current_node = heapq.heappop(priority_queue)\n",
    "\n",
    "        if current_node in visited:\n",
    "            continue\n",
    "\n",
    "        visited.add(current_node)\n",
    "\n",
    "        if current_node == goal:\n",
    "            break\n",
    "\n",
    "        for neighbor in graph[current_node]:\n",
    "            new_cost = g_cost[current_node] + cost[(current_node, neighbor)]\n",
    "            if neighbor not in g_cost or new_cost < g_cost[neighbor]:\n",
    "                g_cost[neighbor] = new_cost\n",
    "                f_cost = new_cost + heuristic[neighbor]\n",
    "                heapq.heappush(priority_queue, (f_cost, neighbor))\n",
    "                parent[neighbor] = current_node\n",
    "\n",
    "    path = []\n",
    "    node = goal\n",
    "    total_cost = 0\n",
    "    while node is not None:\n",
    "        if parent[node] is not None:  \n",
    "                total_cost += cost[(parent[node], node)]\n",
    "        path.append(node)\n",
    "        node = parent[node]\n",
    "    path.reverse()\n",
    "\n",
    "    return path, total_cost\n",
    "\n",
    "# Given graph\n",
    "graph = {\n",
    "    'S': ['A', 'B'],\n",
    "    'A': ['B', 'C', 'D'],\n",
    "    'B': ['C'],\n",
    "    'C': ['D'],\n",
    "    'D': []\n",
    "}\n",
    "\n",
    "# Given heuristic values\n",
    "heuristic = {\n",
    "    'S': 7,\n",
    "    'A': 6,\n",
    "    'B': 2,\n",
    "    'C': 1,\n",
    "    'D': 0\n",
    "}\n",
    "\n",
    "# Given costs between nodes\n",
    "cost = {\n",
    "    ('S', 'A'): 1,\n",
    "    ('S', 'B'): 4,\n",
    "    ('A', 'B'): 2,\n",
    "    ('A', 'C'): 5,\n",
    "    ('A', 'D'): 12,\n",
    "    ('B', 'C'): 2,\n",
    "    ('C', 'D'): 3\n",
    "}\n",
    "\n",
    "start = 'S'\n",
    "goal = 'D'\n",
    "\n",
    "path, total_cost = a_star_search_heapq(graph, start, goal, heuristic, cost)\n",
    "print(\"A* Search Path:\", path)\n",
    "print(\"Total Cost:\", total_cost)"
   ]
  },
  {
   "cell_type": "code",
   "execution_count": null,
   "id": "610f9aca-1e70-4c30-a01d-c4b5f53d120f",
   "metadata": {},
   "outputs": [],
   "source": []
  }
 ],
 "metadata": {
  "kernelspec": {
   "display_name": "Python 3 (ipykernel)",
   "language": "python",
   "name": "python3"
  },
  "language_info": {
   "codemirror_mode": {
    "name": "ipython",
    "version": 3
   },
   "file_extension": ".py",
   "mimetype": "text/x-python",
   "name": "python",
   "nbconvert_exporter": "python",
   "pygments_lexer": "ipython3",
   "version": "3.11.7"
  }
 },
 "nbformat": 4,
 "nbformat_minor": 5
}
