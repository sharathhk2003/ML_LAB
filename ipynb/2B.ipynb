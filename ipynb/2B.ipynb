{
 "cells": [
  {
   "cell_type": "code",
   "execution_count": 13,
   "id": "31e0adb5-86c2-4375-b376-52044d7ae41b",
   "metadata": {},
   "outputs": [
    {
     "name": "stdout",
     "output_type": "stream",
     "text": [
      "A* Search Path: ['A', 'E', 'D', 'G']\n",
      "Total Cost: 10\n"
     ]
    }
   ],
   "source": [
    "import heapq\n",
    "\n",
    "class Node:\n",
    "    def __init__(self, position, parent=None):\n",
    "        self.position = position\n",
    "        self.parent = parent\n",
    "        self.g = 0  \n",
    "        self.h = 0  \n",
    "        self.f = 0\n",
    "\n",
    "    def __lt__(self, other):\n",
    "        return self.f < other.f\n",
    "\n",
    "def astar_search(graph, start, goal, heuristic):\n",
    "    open_list = []\n",
    "    closed_set = set()\n",
    "\n",
    "    heapq.heappush(open_list, Node(start))\n",
    "\n",
    "    while open_list:\n",
    "        current_node = heapq.heappop(open_list)\n",
    "        closed_set.add(current_node.position)\n",
    "\n",
    "        if current_node.position == goal:\n",
    "            path = []\n",
    "            total_cost = current_node.g\n",
    "            while current_node:\n",
    "                path.append(current_node.position)\n",
    "                current_node = current_node.parent\n",
    "            return path[::-1], total_cost\n",
    "\n",
    "        neighbors = graph.get(current_node.position, [])\n",
    "\n",
    "        for neighbor, edge_cost in neighbors:\n",
    "            if neighbor in closed_set:\n",
    "                continue\n",
    "\n",
    "            neighbor_node = Node(neighbor, current_node)\n",
    "            neighbor_node.g = current_node.g + edge_cost  \n",
    "            neighbor_node.h = heuristic[neighbor]\n",
    "            neighbor_node.f = neighbor_node.g + neighbor_node.h\n",
    "\n",
    "            heapq.heappush(open_list, neighbor_node)\n",
    "\n",
    "    return [], float('inf') \n",
    "\n",
    "graph = {\n",
    "    'A': [('B', 2), ('E', 3)],\n",
    "    'B': [('C', 1), ('G', 9)],\n",
    "    'C': [],\n",
    "    'D': [('G', 1)],\n",
    "    'E': [('D', 6)],\n",
    "    'G': []\n",
    "}\n",
    "\n",
    "heuristic = {\n",
    "    'A': 1,\n",
    "    'B': 6,\n",
    "    'C': 99,\n",
    "    'D': 1,\n",
    "    'E': 7,\n",
    "    'G': 0\n",
    "}\n",
    "start_node = 'A'\n",
    "goal_node = 'G'\n",
    "\n",
    "path, total_cost = astar_search(graph, start_node, goal_node, heuristic)\n",
    "if path:\n",
    "    print(\"A* Search Path:\", path)\n",
    "    print(\"Total Cost:\", total_cost)\n",
    "else:\n",
    "    print(\"No path found from\", start_node, \"to\", goal_node)"
   ]
  },
  {
   "cell_type": "code",
   "execution_count": null,
   "id": "610f9aca-1e70-4c30-a01d-c4b5f53d120f",
   "metadata": {},
   "outputs": [],
   "source": []
  }
 ],
 "metadata": {
  "kernelspec": {
   "display_name": "Python 3 (ipykernel)",
   "language": "python",
   "name": "python3"
  },
  "language_info": {
   "codemirror_mode": {
    "name": "ipython",
    "version": 3
   },
   "file_extension": ".py",
   "mimetype": "text/x-python",
   "name": "python",
   "nbconvert_exporter": "python",
   "pygments_lexer": "ipython3",
   "version": "3.11.7"
  }
 },
 "nbformat": 4,
 "nbformat_minor": 5
}
